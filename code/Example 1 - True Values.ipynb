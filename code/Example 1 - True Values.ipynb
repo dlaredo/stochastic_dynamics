{
 "cells": [
  {
   "cell_type": "code",
   "execution_count": 1,
   "metadata": {},
   "outputs": [],
   "source": [
    "import random\n",
    "import numpy as np\n",
    "import sys\n",
    "\n",
    "sys.path.append('/Users/davidlaredorazo/Documents/University_of_California/Research/Projects')\n",
    "\n",
    "#Data handlers\n",
    "from ann_framework.data_handlers.data_handler_Oscillator import OscillatorDataHandler"
   ]
  },
  {
   "cell_type": "code",
   "execution_count": 12,
   "metadata": {
    "collapsed": true
   },
   "outputs": [],
   "source": [
    "k = 1\n",
    "c = 0.1\n",
    "D = 1\n",
    "\n",
    "sigma_x = np.sqrt(D / (k*c))\n",
    "sigma_y = np.sqrt(D / c)"
   ]
  },
  {
   "cell_type": "code",
   "execution_count": null,
   "metadata": {
    "collapsed": true
   },
   "outputs": [],
   "source": [
    "input_x = []\n",
    "input_y = []\n",
    "output_p = []\n",
    "\n",
    "for i in np.arange(2000):\n",
    "    input_x.append(random.uniform(-10,10))\n",
    "    input_y.append(random.uniform(-10,10))\n",
    "    output_p.append( np.exp( - ( input_x[i]**2 / (2 * sigma_x**2) + input_y[i]**2 / (2*sigma_y**2) ) ) / (2*np.pi*sigma_x*sigma_y) )\n",
    "#print(output_p)"
   ]
  },
  {
   "cell_type": "code",
   "execution_count": null,
   "metadata": {
    "collapsed": true
   },
   "outputs": [],
   "source": [
    "import matplotlib.pyplot as plt\n",
    "from mpl_toolkits.mplot3d import Axes3D"
   ]
  },
  {
   "cell_type": "code",
   "execution_count": null,
   "metadata": {},
   "outputs": [],
   "source": [
    "fig = plt.figure()\n",
    "ax = Axes3D(fig)\n",
    "surf = Axes3D.scatter(ax, input_x, input_y, output_p)"
   ]
  },
  {
   "cell_type": "code",
   "execution_count": 21,
   "metadata": {
    "collapsed": true
   },
   "outputs": [],
   "source": [
    "def real_p(x1, x2, sigma_x, sigma_y):\n",
    "    \n",
    "    z = (x1**2)/(2 * sigma_x**2) + (x2**2)/(2*sigma_y**2)\n",
    "    d = 2*np.pi*sigma_x*sigma_y\n",
    "    \n",
    "    p = np.exp( -z )/d\n",
    "    \n",
    "    return np.reshape(p, [p.shape[0], 1])"
   ]
  },
  {
   "cell_type": "code",
   "execution_count": 11,
   "metadata": {},
   "outputs": [
    {
     "name": "stdout",
     "output_type": "stream",
     "text": [
      "None\n",
      "None\n",
      "None\n",
      "Loading data. Cros-Validation ratio 0.2\n",
      "Printing shapes\n",
      "\n",
      "Training data (X, y)\n",
      "(7200, 2)\n",
      "(7200, 1)\n",
      "Cross-Validation data (X, y)\n",
      "(1800, 2)\n",
      "(1800, 1)\n",
      "Testing data (X, y)\n",
      "(1000, 2)\n",
      "(1000, 1)\n",
      "Printing first 5 elements\n",
      "\n",
      "Training data (X, y)\n",
      "[[-0.85858586 -2.47474747]\n",
      " [ 2.07070707 -4.19191919]\n",
      " [ 2.07070707  2.77777778]\n",
      " [-1.56565657  0.85858586]\n",
      " [-4.7979798   4.39393939]]\n",
      "[[0.]\n",
      " [0.]\n",
      " [0.]\n",
      " [0.]\n",
      " [0.]]\n",
      "Cross-Validation data (X, y)\n",
      "[[ 2.77777778 -3.68686869]\n",
      " [-2.47474747 -0.15151515]\n",
      " [-1.16161616  2.37373737]\n",
      " [-2.57575758 -2.47474747]\n",
      " [-1.16161616  0.15151515]]\n",
      "[[0.]\n",
      " [0.]\n",
      " [0.]\n",
      " [0.]\n",
      " [0.]]\n",
      "Testing data (X, y)\n",
      "[[ 1.76767677 -3.78787879]\n",
      " [ 1.06060606  1.76767677]\n",
      " [ 1.06060606  2.97979798]\n",
      " [-4.09090909  0.25252525]\n",
      " [ 1.26262626  1.86868687]]\n",
      "[[0.]\n",
      " [0.]\n",
      " [0.]\n",
      " [0.]\n",
      " [0.]]\n"
     ]
    },
    {
     "name": "stderr",
     "output_type": "stream",
     "text": [
      "/Users/davidlaredorazo/anaconda/envs/tensorflow/lib/python3.6/site-packages/sklearn/model_selection/_split.py:2010: FutureWarning: From version 0.21, test_size will always complement train_size unless both are specified.\n",
      "  FutureWarning)\n"
     ]
    }
   ],
   "source": [
    "dhandler_stochastic = OscillatorDataHandler()\n",
    "\n",
    "dhandler_stochastic.load_data(verbose=1, cross_validation_ratio=0.2, x=[0,0], boundaries=[5,5], n=[50,50])\n",
    "dhandler_stochastic.print_data()\n"
   ]
  },
  {
   "cell_type": "code",
   "execution_count": 22,
   "metadata": {},
   "outputs": [
    {
     "name": "stdout",
     "output_type": "stream",
     "text": [
      "[[0.00548403]\n",
      " [0.01170395]\n",
      " [0.01122445]\n",
      " ...\n",
      " [0.01359784]\n",
      " [0.01078657]\n",
      " [0.0054173 ]]\n",
      "(1800, 1)\n",
      "[[0.00548403]\n",
      " [0.01170395]\n",
      " [0.01122445]\n",
      " ...\n",
      " [0.01359784]\n",
      " [0.01078657]\n",
      " [0.0054173 ]]\n",
      "(1800, 1)\n"
     ]
    }
   ],
   "source": [
    "p = real_p(dhandler_stochastic.X_crossVal[:,0], dhandler_stochastic.X_crossVal[:,1], sigma_x, sigma_y)\n",
    "print(p)\n",
    "print(p.shape)\n",
    "\n",
    "e = p - dhandler_stochastic.y_crossVal\n",
    "print(e)\n",
    "print(e.shape)"
   ]
  },
  {
   "cell_type": "code",
   "execution_count": null,
   "metadata": {
    "collapsed": true
   },
   "outputs": [],
   "source": []
  }
 ],
 "metadata": {
  "kernelspec": {
   "display_name": "Python 3",
   "language": "python",
   "name": "python3"
  },
  "language_info": {
   "codemirror_mode": {
    "name": "ipython",
    "version": 3
   },
   "file_extension": ".py",
   "mimetype": "text/x-python",
   "name": "python",
   "nbconvert_exporter": "python",
   "pygments_lexer": "ipython3",
   "version": "3.6.6"
  }
 },
 "nbformat": 4,
 "nbformat_minor": 2
}
