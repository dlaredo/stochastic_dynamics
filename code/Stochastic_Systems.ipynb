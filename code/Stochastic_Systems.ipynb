{
 "cells": [
  {
   "cell_type": "code",
   "execution_count": 1,
   "metadata": {},
   "outputs": [
    {
     "name": "stderr",
     "output_type": "stream",
     "text": [
      "Using TensorFlow backend.\n"
     ]
    }
   ],
   "source": [
    "import numpy as np\n",
    "import sys\n",
    "\n",
    "sys.path.append('/Users/davidlaredorazo/Documents/University_of_California/Research/Projects')\n",
    "\n",
    "import keras\n",
    "from keras.models import Sequential, Model\n",
    "from keras.layers import Dense, Input, Dropout, Reshape, Conv2D, Flatten, MaxPooling2D, LSTM\n",
    "from keras.optimizers import Adam, SGD\n",
    "from keras.callbacks import LearningRateScheduler\n",
    "from keras import backend as K\n",
    "from keras import regularizers\n",
    "\n",
    "import tensorflow as tf\n",
    "\n",
    "import aux_functions_stochastic\n",
    "\n",
    "#Tunable model\n",
    "from ann_framework.tunable_model.tunable_model import SequenceTunableModelRegression\n",
    "\n",
    "#Data handlers\n",
    "from ann_framework.data_handlers.data_handler_Oscillator import OscillatorDataHandler\n",
    "\n",
    "from ann_framework import aux_functions"
   ]
  },
  {
   "cell_type": "markdown",
   "metadata": {},
   "source": [
    "### Define keras model"
   ]
  },
  {
   "cell_type": "code",
   "execution_count": 2,
   "metadata": {},
   "outputs": [
    {
     "data": {
      "text/plain": [
       "\"\\n\\nl2_lambda_regularization = 0.3\\n\\ndef StochasticModel_SN(input_shape):\\n    #Create a sequential model\\n    model = Sequential()\\n    \\n    #Add the layers for the model\\n    model.add(Dense(20, input_shape=input_shape, activation='sigmoid', kernel_initializer='glorot_normal', \\n                    kernel_regularizer=regularizers.l2(l2_lambda_regularization), \\n                    name='fc1'))\\n    model.add(Dense(20, activation='sigmoid', kernel_initializer='glorot_normal', \\n                    kernel_regularizer=regularizers.l2(l2_lambda_regularization), \\n                    name='fc2'))\\n    model.add(Dense(1, activation='linear', kernel_initializer='glorot_normal', \\n                    kernel_regularizer=regularizers.l2(l2_lambda_regularization), name='out'))\\n    \\n    return model\\n\""
      ]
     },
     "execution_count": 2,
     "metadata": {},
     "output_type": "execute_result"
    }
   ],
   "source": [
    "\"\"\"\n",
    "\n",
    "l2_lambda_regularization = 0.3\n",
    "\n",
    "def StochasticModel_SN(input_shape):\n",
    "    #Create a sequential model\n",
    "    model = Sequential()\n",
    "    \n",
    "    #Add the layers for the model\n",
    "    model.add(Dense(20, input_shape=input_shape, activation='sigmoid', kernel_initializer='glorot_normal', \n",
    "                    kernel_regularizer=regularizers.l2(l2_lambda_regularization), \n",
    "                    name='fc1'))\n",
    "    model.add(Dense(20, activation='sigmoid', kernel_initializer='glorot_normal', \n",
    "                    kernel_regularizer=regularizers.l2(l2_lambda_regularization), \n",
    "                    name='fc2'))\n",
    "    model.add(Dense(1, activation='linear', kernel_initializer='glorot_normal', \n",
    "                    kernel_regularizer=regularizers.l2(l2_lambda_regularization), name='out'))\n",
    "    \n",
    "    return model\n",
    "\"\"\""
   ]
  },
  {
   "cell_type": "markdown",
   "metadata": {},
   "source": [
    "### Define tensorflow model"
   ]
  },
  {
   "cell_type": "code",
   "execution_count": 3,
   "metadata": {
    "collapsed": true
   },
   "outputs": [],
   "source": [
    "def create_placeholders(input_shape, output_shape):\n",
    "    \n",
    "    X = tf.placeholder(tf.float32, shape=(None,input_shape), name=\"X\")\n",
    "    y = tf.placeholder(tf.float32, shape=None, name=\"y\")\n",
    "    \n",
    "    return X, y\n",
    "\n",
    "def tf_model(X):\n",
    "    \n",
    "    l2_lambda_regularization = 0.20\n",
    "    l1_lambda_regularization = 0.10\n",
    "    \n",
    "    A1 = tf.layers.dense(X, 20, activation=tf.nn.relu, \n",
    "                         kernel_initializer=tf.contrib.layers.xavier_initializer(uniform=False), \n",
    "                         kernel_regularizer=tf.contrib.layers.l1_l2_regularizer(l1_lambda_regularization,l2_lambda_regularization), \n",
    "                         name=\"fc1\")\n",
    "    A2 = tf.layers.dense(A1, 20, activation=tf.nn.relu, \n",
    "                         kernel_initializer=tf.contrib.layers.xavier_initializer(uniform=False),\n",
    "                         kernel_regularizer=tf.contrib.layers.l1_l2_regularizer(l1_lambda_regularization,l2_lambda_regularization), name=\"fc2\")\n",
    "    y = tf.layers.dense(A2, 1, activation=None, kernel_initializer=tf.contrib.layers.xavier_initializer(uniform=False),\n",
    "                        kernel_regularizer=tf.contrib.layers.l1_l2_regularizer(l1_lambda_regularization,l2_lambda_regularization), name=\"out\")\n",
    "    \n",
    "    return y"
   ]
  },
  {
   "cell_type": "markdown",
   "metadata": {},
   "source": [
    "### Create  Model Keras"
   ]
  },
  {
   "cell_type": "code",
   "execution_count": 4,
   "metadata": {},
   "outputs": [
    {
     "data": {
      "text/plain": [
       "'\\n\\ndef get_compiled_model(shape, model_type=\\'ann\\'):\\n    \\n    K.clear_session()  #Clear the previous tensorflow graph\\n    \\n    #To test the model without randomness\\n\\n    \\n    #Shared parameters for the models\\n    optimizer = Adam(lr=0.001,beta_1=0.5)\\n    \\n    #optimizer = SGD(lr=0.001, momentum=0.0, decay=0.0, nesterov=False)\\n    \\n    lossFunction = \"mean_squared_error\"\\n    metrics = [\"mse\"]\\n    model = None\\n\\n    #Create and compile the models\\n    model = StochasticModel_SN(shape)\\n    model.compile(optimizer = optimizer, loss = lossFunction, metrics = metrics)\\n\\n    return model\\n    \\n'"
      ]
     },
     "execution_count": 4,
     "metadata": {},
     "output_type": "execute_result"
    }
   ],
   "source": [
    "\"\"\"\n",
    "\n",
    "def get_compiled_model(shape, model_type='ann'):\n",
    "    \n",
    "    K.clear_session()  #Clear the previous tensorflow graph\n",
    "    \n",
    "    #To test the model without randomness\n",
    "\n",
    "    \n",
    "    #Shared parameters for the models\n",
    "    optimizer = Adam(lr=0.001,beta_1=0.5)\n",
    "    \n",
    "    #optimizer = SGD(lr=0.001, momentum=0.0, decay=0.0, nesterov=False)\n",
    "    \n",
    "    lossFunction = \"mean_squared_error\"\n",
    "    metrics = [\"mse\"]\n",
    "    model = None\n",
    "\n",
    "    #Create and compile the models\n",
    "    model = StochasticModel_SN(shape)\n",
    "    model.compile(optimizer = optimizer, loss = lossFunction, metrics = metrics)\n",
    "\n",
    "    return model\n",
    "    \n",
    "\"\"\""
   ]
  },
  {
   "cell_type": "markdown",
   "metadata": {},
   "source": [
    "### Create Model TF"
   ]
  },
  {
   "cell_type": "code",
   "execution_count": 5,
   "metadata": {
    "collapsed": true
   },
   "outputs": [],
   "source": [
    "def first_order_central_finite_difference(f_x_delta_plus, f_x_delta_minus, delta):\n",
    "    \n",
    "    return (f_x_delta_plus - f_x_delta_minus)/(2*delta)\n",
    "\n",
    "def second_order_central_finite_difference(f_x, f_x_delta_plus, f_x_delta_minus, delta):\n",
    "    \n",
    "    return (f_x_delta_minus - 2*f_x + f_x_delta_minus)/(delta**2)\n",
    "    "
   ]
  },
  {
   "cell_type": "code",
   "execution_count": 6,
   "metadata": {
    "collapsed": true
   },
   "outputs": [],
   "source": [
    "def squared_residual_function(X, y, y_pred):\n",
    "    \n",
    "    k = 1\n",
    "    c = 0.1\n",
    "    D = 1\n",
    "    r = 0\n",
    "    \n",
    "    deltas = tf.constant([0.1,0.1], name=\"deltas\")\n",
    "    \n",
    "    deltas = tf.Print(deltas, [deltas, X], \"que mamada\\n\")\n",
    "    \n",
    "    \"\"\"\n",
    "    delta_x = deltas[0]\n",
    "    delta_y = deltas[1]\n",
    "    \n",
    "    nn_x = y_pred[0]\n",
    "    nn_x_delta_plus = y_pred[1]\n",
    "    nn_x_delta_minus = y_pred[2]\n",
    "    nn_y_delta_plus = y_pred[3]\n",
    "    nn_y_delta_minus = y_pred[4]\n",
    "    \n",
    "    nn_partial1_x = first_order_central_finite_difference(nn_x_delta_plus, nn_x_delta_minus, delta_x)\n",
    "    nn_partial1_y = first_order_central_finite_difference(nn_y_delta_plus, nn_y_delta_minus, delta_y)\n",
    "    nn_partial2_y = second_order_central_finite_difference(nn_x, nn_y_delta_plus, nn_y_delta_minus, delta_y)\n",
    "    \n",
    "    #r = y*nn_partial1_x + c - c*y*nn_partial1_y - k*x*nn_partial1_y + D*(nn_partial1_y**2 - nn_partial2_y)\n",
    "    \"\"\"\n",
    "    \n",
    "    return tf.losses.mean_squared_error(y, y_pred)\n",
    "     \n",
    "    \n",
    "    "
   ]
  },
  {
   "cell_type": "code",
   "execution_count": 7,
   "metadata": {
    "collapsed": true
   },
   "outputs": [],
   "source": [
    "def tf_compiled_model(num_features, output_shape):\n",
    "    \n",
    "    tf.reset_default_graph()\n",
    "    X, y = create_placeholders(num_features, output_shape)\n",
    "    \n",
    "    y_pred = tf_model(X)\n",
    "    #cost = tf.losses.mean_squared_error(y, y_pred)\n",
    "    cost = squared_residual_function(X, y, y_pred)\n",
    "    reg_cost = tf.losses.get_regularization_loss()\n",
    "    total_cost = cost + reg_cost\n",
    "    \n",
    "    optimizer = tf.train.AdamOptimizer(learning_rate=0.001,beta1=0.5).minimize(total_cost)\n",
    "    \n",
    "    return {'X_placeholder':X, 'y_placeholder':y, 'y_pred':y_pred, 'cost':cost, 'total_cost':total_cost, 'optimizer':optimizer}"
   ]
  },
  {
   "cell_type": "markdown",
   "metadata": {},
   "source": [
    "### Create Tunable Model Keras"
   ]
  },
  {
   "cell_type": "code",
   "execution_count": 8,
   "metadata": {},
   "outputs": [
    {
     "data": {
      "text/plain": [
       "\"\\n\\nshape = (2, )\\n\\ndhandler_stochastic = OscillatorDataHandler()\\n\\n\\nmodel = get_compiled_model(shape, model_type='ann')\\ntModel = SequenceTunableModelRegression('ModelStochastic_SN_1', model, lib_type='keras', \\n                                        data_handler=dhandler_stochastic)\\ntModel.model.summary()\\n\\n\""
      ]
     },
     "execution_count": 8,
     "metadata": {},
     "output_type": "execute_result"
    }
   ],
   "source": [
    "\"\"\"\n",
    "\n",
    "shape = (2, )\n",
    "\n",
    "dhandler_stochastic = OscillatorDataHandler()\n",
    "\n",
    "\n",
    "model = get_compiled_model(shape, model_type='ann')\n",
    "tModel = SequenceTunableModelRegression('ModelStochastic_SN_1', model, lib_type='keras', \n",
    "                                        data_handler=dhandler_stochastic)\n",
    "tModel.model.summary()\n",
    "\n",
    "\"\"\""
   ]
  },
  {
   "cell_type": "markdown",
   "metadata": {},
   "source": [
    "### Create Tunable Model Tensorflow"
   ]
  },
  {
   "cell_type": "code",
   "execution_count": 9,
   "metadata": {},
   "outputs": [
    {
     "name": "stdout",
     "output_type": "stream",
     "text": [
      "WARNING:tensorflow:From <ipython-input-6-d4035b53f863>:10: Print (from tensorflow.python.ops.logging_ops) is deprecated and will be removed after 2018-08-20.\n",
      "Instructions for updating:\n",
      "Use tf.print instead of tf.Print. Note that tf.print returns a no-output operator that directly prints the output. Outside of defuns or eager mode, this operator will not be executed unless it is directly specified in session.run or used as a control dependency for other operators. This is only a concern in graph mode. Below is an example of how to ensure tf.print executes in graph mode:\n",
      "```python\n",
      "    sess = tf.Session()\n",
      "    with sess.as_default():\n",
      "        tensor = tf.range(10)\n",
      "        print_op = tf.print(tensor)\n",
      "        with tf.control_dependencies([print_op]):\n",
      "          out = tf.add(tensor, tensor)\n",
      "        sess.run(out)\n",
      "    ```\n",
      "Additionally, to use tf.print in python 2.7, users must make sure to import\n",
      "the following:\n",
      "\n",
      "  `from __future__ import print_function`\n",
      "\n"
     ]
    }
   ],
   "source": [
    "dhandler_stochastic = OscillatorDataHandler()\n",
    "\n",
    "\n",
    "model = tf_compiled_model(2, 1)\n",
    "tModel = SequenceTunableModelRegression('ModelStochastic_SN_1', model, lib_type='tensorflow', \n",
    "                                        data_handler=dhandler_stochastic)"
   ]
  },
  {
   "cell_type": "markdown",
   "metadata": {},
   "source": [
    "### Load Data"
   ]
  },
  {
   "cell_type": "code",
   "execution_count": 10,
   "metadata": {},
   "outputs": [
    {
     "name": "stdout",
     "output_type": "stream",
     "text": [
      "Loading data. Cros-Validation ratio 0.2\n",
      "Printing shapes\n",
      "\n",
      "Training data (X, y)\n",
      "(7200, 2)\n",
      "(7200, 1)\n",
      "Cross-Validation data (X, y)\n",
      "(1800, 2)\n",
      "(1800, 1)\n",
      "Testing data (X, y)\n",
      "(1000, 2)\n",
      "(1000, 1)\n",
      "Printing first 5 elements\n",
      "\n",
      "Training data (X, y)\n",
      "[[-3.88888889 -2.07070707]\n",
      " [ 3.58585859 -2.17171717]\n",
      " [ 4.7979798   1.76767677]\n",
      " [ 1.56565657 -2.87878788]\n",
      " [ 4.19191919  2.07070707]]\n",
      "[[0.]\n",
      " [0.]\n",
      " [0.]\n",
      " [0.]\n",
      " [0.]]\n",
      "Cross-Validation data (X, y)\n",
      "[[-3.48484848 -5.        ]\n",
      " [ 4.39393939  4.7979798 ]\n",
      " [ 4.6969697   3.78787879]\n",
      " [-2.07070707  3.68686869]\n",
      " [ 2.67676768 -2.57575758]]\n",
      "[[0.]\n",
      " [0.]\n",
      " [0.]\n",
      " [0.]\n",
      " [0.]]\n",
      "Testing data (X, y)\n",
      "[[-4.29292929  2.27272727]\n",
      " [-3.18181818  4.29292929]\n",
      " [ 4.19191919 -1.66666667]\n",
      " [-4.19191919  2.47474747]\n",
      " [-0.95959596  4.8989899 ]]\n",
      "[[0.]\n",
      " [0.]\n",
      " [0.]\n",
      " [0.]\n",
      " [0.]]\n"
     ]
    },
    {
     "name": "stderr",
     "output_type": "stream",
     "text": [
      "/Users/davidlaredorazo/anaconda/envs/tensorflow/lib/python3.6/site-packages/sklearn/model_selection/_split.py:2010: FutureWarning: From version 0.21, test_size will always complement train_size unless both are specified.\n",
      "  FutureWarning)\n"
     ]
    }
   ],
   "source": [
    "#tModel.data_handler.data_scaler = None\n",
    "#tModel.data_scaler = min_max_scaler\n",
    "\n",
    "tModel.load_data(verbose=1, cross_validation_ratio=0.2, x=[0,0], delta_x=[5,5], n=[50,50])\n",
    "#tModel.data_handler.print_data()\n",
    "tModel.print_data()"
   ]
  },
  {
   "cell_type": "markdown",
   "metadata": {},
   "source": [
    "### Train model Keras"
   ]
  },
  {
   "cell_type": "code",
   "execution_count": 11,
   "metadata": {},
   "outputs": [
    {
     "data": {
      "text/plain": [
       "'\\n\\ntModel.epochs = 200\\nlrate = LearningRateScheduler(CMAPSAuxFunctions.step_decay)\\n\\ntModel.train_model(learningRate_scheduler=lrate, verbose=1)\\n\\n'"
      ]
     },
     "execution_count": 11,
     "metadata": {},
     "output_type": "execute_result"
    }
   ],
   "source": [
    "\"\"\"\n",
    "\n",
    "tModel.epochs = 200\n",
    "lrate = LearningRateScheduler(CMAPSAuxFunctions.step_decay)\n",
    "\n",
    "tModel.train_model(learningRate_scheduler=lrate, verbose=1)\n",
    "\n",
    "\"\"\""
   ]
  },
  {
   "cell_type": "markdown",
   "metadata": {
    "collapsed": true
   },
   "source": [
    "### Train model Tensorflow"
   ]
  },
  {
   "cell_type": "code",
   "execution_count": 12,
   "metadata": {},
   "outputs": [
    {
     "name": "stdout",
     "output_type": "stream",
     "text": [
      "Epoch: 0001 cost_reg= 11.735748736 cost= 0.903924761\n",
      "Epoch: 0002 cost_reg= 10.379637019 cost= 0.208065661\n",
      "Epoch: 0003 cost_reg= 9.578577805 cost= 0.093574203\n",
      "Epoch: 0004 cost_reg= 8.872437986 cost= 0.059824997\n",
      "Epoch: 0005 cost_reg= 8.215274302 cost= 0.045167493\n",
      "Epoch: 0006 cost_reg= 7.604796918 cost= 0.036156503\n",
      "Epoch: 0007 cost_reg= 7.033651479 cost= 0.030200790\n",
      "Epoch: 0008 cost_reg= 6.490396945 cost= 0.024286012\n",
      "Epoch: 0009 cost_reg= 5.976389599 cost= 0.020563973\n",
      "Epoch: 0010 cost_reg= 5.493213844 cost= 0.016338221\n",
      "Epoch: 0011 cost_reg= 5.041775290 cost= 0.014419000\n",
      "Epoch: 0012 cost_reg= 4.620947011 cost= 0.011843789\n",
      "Epoch: 0013 cost_reg= 4.229043738 cost= 0.010077109\n",
      "Epoch: 0014 cost_reg= 3.866402070 cost= 0.008716067\n",
      "Epoch: 0015 cost_reg= 3.526670758 cost= 0.007311991\n",
      "Epoch: 0016 cost_reg= 3.208980576 cost= 0.006488359\n",
      "Epoch: 0017 cost_reg= 2.917697303 cost= 0.006230074\n",
      "Epoch: 0018 cost_reg= 2.654797061 cost= 0.005937626\n",
      "Epoch: 0019 cost_reg= 2.415947564 cost= 0.005601093\n",
      "Epoch: 0020 cost_reg= 2.200264597 cost= 0.005522085\n",
      "Epoch: 0021 cost_reg= 2.007273626 cost= 0.005872282\n",
      "Epoch: 0022 cost_reg= 1.833843088 cost= 0.005866363\n",
      "Epoch: 0023 cost_reg= 1.672395738 cost= 0.005973485\n",
      "Epoch: 0024 cost_reg= 1.518621794 cost= 0.005687978\n",
      "Epoch: 0025 cost_reg= 1.377512511 cost= 0.005560976\n",
      "Epoch: 0026 cost_reg= 1.251717973 cost= 0.005090312\n",
      "Epoch: 0027 cost_reg= 1.133841221 cost= 0.004400064\n",
      "Epoch: 0028 cost_reg= 1.025618211 cost= 0.003716152\n",
      "Epoch: 0029 cost_reg= 0.928048400 cost= 0.003074395\n",
      "Epoch: 0030 cost_reg= 0.838282291 cost= 0.002519259\n",
      "Epoch: 0031 cost_reg= 0.756492106 cost= 0.001997602\n",
      "Epoch: 0032 cost_reg= 0.681470168 cost= 0.001664988\n",
      "Epoch: 0033 cost_reg= 0.615507829 cost= 0.001352823\n",
      "Epoch: 0034 cost_reg= 0.557020589 cost= 0.001102602\n",
      "Epoch: 0035 cost_reg= 0.503729457 cost= 0.000898425\n",
      "Epoch: 0036 cost_reg= 0.458130165 cost= 0.000715831\n",
      "Epoch: 0037 cost_reg= 0.420079279 cost= 0.000571193\n",
      "Epoch: 0038 cost_reg= 0.389561001 cost= 0.000460843\n",
      "Epoch: 0039 cost_reg= 0.362180330 cost= 0.000369703\n",
      "Epoch: 0040 cost_reg= 0.336022474 cost= 0.000294764\n",
      "Epoch: 0041 cost_reg= 0.311574103 cost= 0.000237093\n",
      "Epoch: 0042 cost_reg= 0.289074087 cost= 0.000187641\n",
      "Epoch: 0043 cost_reg= 0.267817378 cost= 0.000147603\n",
      "Epoch: 0044 cost_reg= 0.248685957 cost= 0.000113331\n",
      "Epoch: 0045 cost_reg= 0.230832864 cost= 0.000090093\n",
      "Epoch: 0046 cost_reg= 0.213847653 cost= 0.000071779\n",
      "Epoch: 0047 cost_reg= 0.197613093 cost= 0.000056538\n",
      "Epoch: 0048 cost_reg= 0.181975638 cost= 0.000043989\n",
      "Epoch: 0049 cost_reg= 0.167614219 cost= 0.000034439\n",
      "Epoch: 0050 cost_reg= 0.154894216 cost= 0.000026327\n",
      "Epoch: 0051 cost_reg= 0.142593057 cost= 0.000020285\n",
      "Epoch: 0052 cost_reg= 0.131217209 cost= 0.000015375\n",
      "Epoch: 0053 cost_reg= 0.120560590 cost= 0.000011401\n",
      "Epoch: 0054 cost_reg= 0.111204907 cost= 0.000008218\n",
      "Epoch: 0055 cost_reg= 0.102166186 cost= 0.000005748\n",
      "Epoch: 0056 cost_reg= 0.093318825 cost= 0.000003995\n",
      "Epoch: 0057 cost_reg= 0.085116918 cost= 0.000002765\n",
      "Epoch: 0058 cost_reg= 0.077213780 cost= 0.000001897\n",
      "Epoch: 0059 cost_reg= 0.070763017 cost= 0.000001299\n",
      "Epoch: 0060 cost_reg= 0.065445819 cost= 0.000000886\n",
      "Epoch: 0061 cost_reg= 0.060242231 cost= 0.000000602\n",
      "Epoch: 0062 cost_reg= 0.055093318 cost= 0.000000404\n",
      "Epoch: 0063 cost_reg= 0.050058405 cost= 0.000000272\n",
      "Epoch: 0064 cost_reg= 0.045101486 cost= 0.000000182\n",
      "Epoch: 0065 cost_reg= 0.040250627 cost= 0.000000122\n",
      "Epoch: 0066 cost_reg= 0.035906065 cost= 0.000000080\n",
      "Epoch: 0067 cost_reg= 0.032607458 cost= 0.000000053\n",
      "Epoch: 0068 cost_reg= 0.029763913 cost= 0.000000035\n",
      "Epoch: 0069 cost_reg= 0.027342897 cost= 0.000000023\n",
      "Epoch: 0070 cost_reg= 0.024960789 cost= 0.000000015\n",
      "Epoch: 0071 cost_reg= 0.022609471 cost= 0.000000010\n",
      "Epoch: 0072 cost_reg= 0.020653979 cost= 0.000000006\n",
      "Epoch: 0073 cost_reg= 0.019159678 cost= 0.000000004\n",
      "Epoch: 0074 cost_reg= 0.017703050 cost= 0.000000003\n",
      "Epoch: 0075 cost_reg= 0.016251454 cost= 0.000000002\n",
      "Epoch: 0076 cost_reg= 0.014864042 cost= 0.000000001\n",
      "Epoch: 0077 cost_reg= 0.013566685 cost= 0.000000001\n",
      "Epoch: 0078 cost_reg= 0.012814378 cost= 0.000000001\n",
      "Epoch: 0079 cost_reg= 0.012126270 cost= 0.000000000\n",
      "Epoch: 0080 cost_reg= 0.011505775 cost= 0.000000000\n",
      "Epoch: 0081 cost_reg= 0.011165066 cost= 0.000000000\n",
      "Epoch: 0082 cost_reg= 0.011184687 cost= 0.000000000\n",
      "Epoch: 0083 cost_reg= 0.011176028 cost= 0.000000000\n",
      "Epoch: 0084 cost_reg= 0.011214111 cost= 0.000000000\n",
      "Epoch: 0085 cost_reg= 0.011213179 cost= 0.000000000\n",
      "Epoch: 0086 cost_reg= 0.011234810 cost= 0.000000000\n",
      "Epoch: 0087 cost_reg= 0.011225506 cost= 0.000000000\n",
      "Epoch: 0088 cost_reg= 0.011263894 cost= 0.000000000\n",
      "Epoch: 0089 cost_reg= 0.011259239 cost= 0.000000000\n",
      "Epoch: 0090 cost_reg= 0.011288379 cost= 0.000000000\n",
      "Epoch: 0091 cost_reg= 0.011274106 cost= 0.000000000\n",
      "Epoch: 0092 cost_reg= 0.011323704 cost= 0.000000000\n",
      "Epoch: 0093 cost_reg= 0.011308822 cost= 0.000000000\n",
      "Epoch: 0094 cost_reg= 0.011340374 cost= 0.000000000\n",
      "Epoch: 0095 cost_reg= 0.011322121 cost= 0.000000000\n",
      "Epoch: 0096 cost_reg= 0.011368696 cost= 0.000000000\n",
      "Epoch: 0097 cost_reg= 0.011355782 cost= 0.000000000\n",
      "Epoch: 0098 cost_reg= 0.011385748 cost= 0.000000000\n",
      "Epoch: 0099 cost_reg= 0.011366298 cost= 0.000000000\n",
      "Epoch: 0100 cost_reg= 0.011413799 cost= 0.000000000\n",
      "Epoch: 0101 cost_reg= 0.011404443 cost= 0.000000000\n",
      "Epoch: 0102 cost_reg= 0.011427178 cost= 0.000000000\n",
      "Epoch: 0103 cost_reg= 0.011408738 cost= 0.000000000\n",
      "Epoch: 0104 cost_reg= 0.011453349 cost= 0.000000000\n",
      "Epoch: 0105 cost_reg= 0.011447126 cost= 0.000000000\n",
      "Epoch: 0106 cost_reg= 0.011467078 cost= 0.000000000\n",
      "Epoch: 0107 cost_reg= 0.011449269 cost= 0.000000000\n",
      "Epoch: 0108 cost_reg= 0.011489564 cost= 0.000000000\n",
      "Epoch: 0109 cost_reg= 0.011482752 cost= 0.000000000\n",
      "Epoch: 0110 cost_reg= 0.011502696 cost= 0.000000000\n",
      "Epoch: 0111 cost_reg= 0.011483368 cost= 0.000000000\n",
      "Epoch: 0112 cost_reg= 0.011522246 cost= 0.000000000\n",
      "Epoch: 0113 cost_reg= 0.011514090 cost= 0.000000000\n",
      "Epoch: 0114 cost_reg= 0.011534837 cost= 0.000000000\n",
      "Epoch: 0115 cost_reg= 0.011515481 cost= 0.000000000\n",
      "Epoch: 0116 cost_reg= 0.011553025 cost= 0.000000000\n",
      "Epoch: 0117 cost_reg= 0.011543644 cost= 0.000000000\n",
      "Epoch: 0118 cost_reg= 0.011565093 cost= 0.000000000\n",
      "Epoch: 0119 cost_reg= 0.011545692 cost= 0.000000000\n",
      "Epoch: 0120 cost_reg= 0.011582036 cost= 0.000000000\n",
      "Epoch: 0121 cost_reg= 0.011571536 cost= 0.000000000\n",
      "Epoch: 0122 cost_reg= 0.011593595 cost= 0.000000000\n",
      "Epoch: 0123 cost_reg= 0.011574134 cost= 0.000000000\n",
      "Epoch: 0124 cost_reg= 0.011609398 cost= 0.000000000\n",
      "Epoch: 0125 cost_reg= 0.011597875 cost= 0.000000000\n",
      "Epoch: 0126 cost_reg= 0.011620464 cost= 0.000000000\n",
      "Epoch: 0127 cost_reg= 0.011600930 cost= 0.000000000\n",
      "Epoch: 0128 cost_reg= 0.011635222 cost= 0.000000000\n",
      "Epoch: 0129 cost_reg= 0.011622762 cost= 0.000000000\n",
      "Epoch: 0130 cost_reg= 0.011645810 cost= 0.000000000\n",
      "Epoch: 0131 cost_reg= 0.011626192 cost= 0.000000000\n",
      "Epoch: 0132 cost_reg= 0.011659607 cost= 0.000000000\n",
      "Epoch: 0133 cost_reg= 0.011646290 cost= 0.000000000\n",
      "Epoch: 0134 cost_reg= 0.011669732 cost= 0.000000000\n",
      "Epoch: 0135 cost_reg= 0.011650019 cost= 0.000000000\n",
      "Epoch: 0136 cost_reg= 0.011682642 cost= 0.000000000\n",
      "Epoch: 0137 cost_reg= 0.011668540 cost= 0.000000000\n",
      "Epoch: 0138 cost_reg= 0.011692320 cost= 0.000000000\n",
      "Epoch: 0139 cost_reg= 0.011672504 cost= 0.000000000\n",
      "Epoch: 0140 cost_reg= 0.011704412 cost= 0.000000000\n",
      "Epoch: 0141 cost_reg= 0.011689591 cost= 0.000000000\n",
      "Epoch: 0142 cost_reg= 0.011713658 cost= 0.000000000\n",
      "Epoch: 0143 cost_reg= 0.011693732 cost= 0.000000000\n",
      "Epoch: 0144 cost_reg= 0.011724993 cost= 0.000000000\n",
      "Epoch: 0145 cost_reg= 0.011709511 cost= 0.000000000\n",
      "Epoch: 0146 cost_reg= 0.011733821 cost= 0.000000000\n",
      "Epoch: 0147 cost_reg= 0.011713780 cost= 0.000000000\n",
      "Epoch: 0148 cost_reg= 0.011744456 cost= 0.000000000\n",
      "Epoch: 0149 cost_reg= 0.011728366 cost= 0.000000000\n",
      "Epoch: 0150 cost_reg= 0.011752880 cost= 0.000000000\n",
      "Epoch: 0151 cost_reg= 0.011732720 cost= 0.000000000\n",
      "Epoch: 0152 cost_reg= 0.011762865 cost= 0.000000000\n",
      "Epoch: 0153 cost_reg= 0.011746217 cost= 0.000000000\n",
      "Epoch: 0154 cost_reg= 0.011770900 cost= 0.000000000\n",
      "Epoch: 0155 cost_reg= 0.011750617 cost= 0.000000000\n",
      "Epoch: 0156 cost_reg= 0.011780282 cost= 0.000000000\n",
      "Epoch: 0157 cost_reg= 0.011763118 cost= 0.000000000\n",
      "Epoch: 0158 cost_reg= 0.011787940 cost= 0.000000000\n",
      "Epoch: 0159 cost_reg= 0.011767533 cost= 0.000000000\n",
      "Epoch: 0160 cost_reg= 0.011796761 cost= 0.000000000\n"
     ]
    },
    {
     "name": "stdout",
     "output_type": "stream",
     "text": [
      "Epoch: 0161 cost_reg= 0.011779122 cost= 0.000000000\n",
      "Epoch: 0162 cost_reg= 0.011804059 cost= 0.000000000\n",
      "Epoch: 0163 cost_reg= 0.011783525 cost= 0.000000000\n",
      "Epoch: 0164 cost_reg= 0.011812355 cost= 0.000000000\n",
      "Epoch: 0165 cost_reg= 0.011794279 cost= 0.000000000\n",
      "Epoch: 0166 cost_reg= 0.011819305 cost= 0.000000000\n",
      "Epoch: 0167 cost_reg= 0.011798645 cost= 0.000000000\n",
      "Epoch: 0168 cost_reg= 0.011827112 cost= 0.000000000\n",
      "Epoch: 0169 cost_reg= 0.011808633 cost= 0.000000000\n",
      "Epoch: 0170 cost_reg= 0.011833730 cost= 0.000000000\n",
      "Epoch: 0171 cost_reg= 0.011812943 cost= 0.000000000\n",
      "Epoch: 0172 cost_reg= 0.011841080 cost= 0.000000000\n",
      "Epoch: 0173 cost_reg= 0.011822226 cost= 0.000000000\n",
      "Epoch: 0174 cost_reg= 0.011847376 cost= 0.000000000\n",
      "Epoch: 0175 cost_reg= 0.011826464 cost= 0.000000000\n",
      "Epoch: 0176 cost_reg= 0.011854299 cost= 0.000000000\n",
      "Epoch: 0177 cost_reg= 0.011835101 cost= 0.000000000\n",
      "Epoch: 0178 cost_reg= 0.011860288 cost= 0.000000000\n",
      "Epoch: 0179 cost_reg= 0.011839251 cost= 0.000000000\n",
      "Epoch: 0180 cost_reg= 0.011866811 cost= 0.000000000\n",
      "Epoch: 0181 cost_reg= 0.011847293 cost= 0.000000000\n",
      "Epoch: 0182 cost_reg= 0.011872505 cost= 0.000000000\n",
      "Epoch: 0183 cost_reg= 0.011851345 cost= 0.000000000\n",
      "Epoch: 0184 cost_reg= 0.011878653 cost= 0.000000000\n",
      "Epoch: 0185 cost_reg= 0.011858839 cost= 0.000000000\n",
      "Epoch: 0186 cost_reg= 0.011884064 cost= 0.000000000\n",
      "Epoch: 0187 cost_reg= 0.011862784 cost= 0.000000000\n",
      "Epoch: 0188 cost_reg= 0.011889861 cost= 0.000000000\n",
      "Epoch: 0189 cost_reg= 0.011869771 cost= 0.000000000\n",
      "Epoch: 0190 cost_reg= 0.011895001 cost= 0.000000000\n",
      "Epoch: 0191 cost_reg= 0.011873602 cost= 0.000000000\n",
      "Epoch: 0192 cost_reg= 0.011900467 cost= 0.000000000\n",
      "Epoch: 0193 cost_reg= 0.011880121 cost= 0.000000000\n",
      "Epoch: 0194 cost_reg= 0.011905348 cost= 0.000000000\n",
      "Epoch: 0195 cost_reg= 0.011883835 cost= 0.000000000\n",
      "Epoch: 0196 cost_reg= 0.011910503 cost= 0.000000000\n",
      "Epoch: 0197 cost_reg= 0.011889922 cost= 0.000000000\n",
      "Epoch: 0198 cost_reg= 0.011915137 cost= 0.000000000\n",
      "Epoch: 0199 cost_reg= 0.011893512 cost= 0.000000000\n",
      "Epoch: 0200 cost_reg= 0.011920000 cost= 0.000000000\n",
      "Epoch:Final cost_reg= 0.011920000 cost= 0.000000000\n"
     ]
    }
   ],
   "source": [
    "tModel.epochs = 200\n",
    "lrate = LearningRateScheduler(aux_functions.step_decay)\n",
    "minibatches_function_handle = aux_functions_stochastic.get_minibatches\n",
    "\n",
    "deltas = [0.1, 0.1]\n",
    "#tf.get_variable(\"deltas\", initializer=deltas)\n",
    "\n",
    "sess = tf.Session()\n",
    "\n",
    "writer = tf.summary.FileWriter('./graphs', sess.graph)\n",
    "\n",
    "tModel.train_model(tf_session=sess, get_minibatches_function_handle=minibatches_function_handle, \n",
    "                   verbose=1, deltas=deltas)"
   ]
  },
  {
   "cell_type": "code",
   "execution_count": null,
   "metadata": {
    "collapsed": true
   },
   "outputs": [],
   "source": []
  }
 ],
 "metadata": {
  "kernelspec": {
   "display_name": "Python 3",
   "language": "python",
   "name": "python3"
  },
  "language_info": {
   "codemirror_mode": {
    "name": "ipython",
    "version": 3
   },
   "file_extension": ".py",
   "mimetype": "text/x-python",
   "name": "python",
   "nbconvert_exporter": "python",
   "pygments_lexer": "ipython3",
   "version": "3.6.6"
  }
 },
 "nbformat": 4,
 "nbformat_minor": 2
}
